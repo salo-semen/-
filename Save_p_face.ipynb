{
 "cells": [
  {
   "cell_type": "code",
   "execution_count": 1,
   "metadata": {},
   "outputs": [],
   "source": [
    "import dlib\n",
    "import cv2\n",
    "import pickle\n",
    "import os\n",
    "from scipy.spatial import distance "
   ]
  },
  {
   "cell_type": "code",
   "execution_count": 19,
   "metadata": {},
   "outputs": [],
   "source": [
    "sp = dlib.shape_predictor('model\\shape_predictor_5_face_landmarks.dat')\n",
    "facerec = dlib.face_recognition_model_v1('model\\dlib_face_recognition_resnet_model_v1.dat')\n",
    "detector = dlib.get_frontal_face_detector()"
   ]
  },
  {
   "cell_type": "code",
   "execution_count": 7,
   "metadata": {},
   "outputs": [],
   "source": [
    "os.chdir('face')"
   ]
  },
  {
   "cell_type": "code",
   "execution_count": null,
   "metadata": {},
   "outputs": [],
   "source": [
    "os.listdir()"
   ]
  },
  {
   "cell_type": "code",
   "execution_count": 28,
   "metadata": {},
   "outputs": [],
   "source": [
    "os.chdir('..')"
   ]
  },
  {
   "cell_type": "code",
   "execution_count": 23,
   "metadata": {},
   "outputs": [
    {
     "data": {
      "text/plain": [
       "'C:\\\\Users\\\\IQ-6\\\\Documents\\\\мой проект\\\\face1\\\\face'"
      ]
     },
     "execution_count": 23,
     "metadata": {},
     "output_type": "execute_result"
    }
   ],
   "source": [
    "os.getcwd()"
   ]
  },
  {
   "cell_type": "code",
   "execution_count": 24,
   "metadata": {},
   "outputs": [],
   "source": [
    "name_face=os.listdir()\n",
    "name_face.remove('desktop.ini')"
   ]
  },
  {
   "cell_type": "code",
   "execution_count": 25,
   "metadata": {},
   "outputs": [
    {
     "data": {
      "text/plain": [
       "['Aksimiron.jpg',\n",
       " 'Alex Hahkov.jpg',\n",
       " 'Alex.jpg',\n",
       " 'Anna.jpg',\n",
       " 'Bred Pit.jpg',\n",
       " 'm.kiany.jpg',\n",
       " 's.kiany.jpg',\n",
       " 'Salofutdinov.jpg',\n",
       " 'Sema.jpg',\n",
       " 'sema1.jpg',\n",
       " 'sema2.jpg']"
      ]
     },
     "execution_count": 25,
     "metadata": {},
     "output_type": "execute_result"
    }
   ],
   "source": [
    "name_face"
   ]
  },
  {
   "cell_type": "code",
   "execution_count": 29,
   "metadata": {},
   "outputs": [
    {
     "name": "stdout",
     "output_type": "stream",
     "text": [
      "['Aksimiron.jpg', 'Alex Hahkov.jpg', 'Alex.jpg', 'Anna.jpg', 'Bred Pit.jpg', 'm.kiany.jpg', 's.kiany.jpg', 'Salofutdinov.jpg', 'Sema.jpg', 'sema1.jpg', 'sema2.jpg']\n"
     ]
    }
   ],
   "source": [
    "os.chdir('face1/face')\n",
    "name_face=os.listdir()\n",
    "name_face.remove('desktop.ini')\n",
    "print(name_face)"
   ]
  },
  {
   "cell_type": "code",
   "execution_count": 30,
   "metadata": {},
   "outputs": [
    {
     "data": {
      "text/plain": [
       "'Alex.jpg'"
      ]
     },
     "execution_count": 30,
     "metadata": {},
     "output_type": "execute_result"
    }
   ],
   "source": [
    "name_face[2]"
   ]
  },
  {
   "cell_type": "code",
   "execution_count": 31,
   "metadata": {},
   "outputs": [
    {
     "name": "stdout",
     "output_type": "stream",
     "text": [
      "Aksimiron.jpg\n",
      "Alex Hahkov.jpg\n",
      "Alex.jpg\n",
      "Anna.jpg\n",
      "Bred Pit.jpg\n",
      "m.kiany.jpg\n",
      "s.kiany.jpg\n",
      "Salofutdinov.jpg\n",
      "Sema.jpg\n",
      "sema1.jpg\n",
      "sema2.jpg\n"
     ]
    }
   ],
   "source": [
    "data_asd=[]\n",
    "for i in name_face:\n",
    "    pic = cv2.imread(i)\n",
    "    #print(pic, 'nen pic')\n",
    "    #cv2.imshow('pic',pic)\n",
    "    #cv2.waitKey(0)\n",
    "    #cv2.destroyAllWindows()\n",
    "    print(i)\n",
    "    faces_1 = detector(pic, 1)\n",
    "    shape = sp(pic, faces_1[0])\n",
    "    face_descriptor_1 = facerec.compute_face_descriptor(pic, shape)\n",
    "    data_asd.append(face_descriptor_1)\n",
    "    #data = {i:str(face_descriptor_1)}\n",
    "    os.chdir('..')\n",
    "    with open(i, 'wb') as f:\n",
    "        pickle.dump(face_descriptor_1, f)\n",
    "    os.chdir('face')"
   ]
  },
  {
   "cell_type": "code",
   "execution_count": null,
   "metadata": {},
   "outputs": [],
   "source": [
    "type(pic)"
   ]
  },
  {
   "cell_type": "code",
   "execution_count": null,
   "metadata": {},
   "outputs": [],
   "source": [
    "faces_1"
   ]
  },
  {
   "cell_type": "code",
   "execution_count": null,
   "metadata": {},
   "outputs": [],
   "source": [
    "   face_descriptor_1"
   ]
  },
  {
   "cell_type": "code",
   "execution_count": null,
   "metadata": {},
   "outputs": [],
   "source": [
    "data_asd"
   ]
  },
  {
   "cell_type": "code",
   "execution_count": null,
   "metadata": {
    "scrolled": true
   },
   "outputs": [],
   "source": [
    "for i in data_asd:\n",
    "    result = distance.euclidean(face_descriptor_1, i)\n",
    "    print(result)"
   ]
  },
  {
   "cell_type": "code",
   "execution_count": null,
   "metadata": {},
   "outputs": [],
   "source": []
  }
 ],
 "metadata": {
  "kernelspec": {
   "display_name": "Python 3",
   "language": "python",
   "name": "python3"
  },
  "language_info": {
   "codemirror_mode": {
    "name": "ipython",
    "version": 3
   },
   "file_extension": ".py",
   "mimetype": "text/x-python",
   "name": "python",
   "nbconvert_exporter": "python",
   "pygments_lexer": "ipython3",
   "version": "3.6.9"
  }
 },
 "nbformat": 4,
 "nbformat_minor": 2
}
