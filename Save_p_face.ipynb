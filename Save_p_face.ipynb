{
 "cells": [
  {
   "cell_type": "code",
   "execution_count": 1,
   "metadata": {},
   "outputs": [],
   "source": [
    "import dlib\n",
    "import cv2\n",
    "import pickle\n",
    "import os\n",
    "from scipy.spatial import distance "
   ]
  },
  {
   "cell_type": "code",
   "execution_count": 22,
   "metadata": {},
   "outputs": [],
   "source": [
    "sp = dlib.shape_predictor('model\\shape_predictor_68_face_landmarks.dat')\n",
    "facerec = dlib.face_recognition_model_v1('model\\dlib_face_recognition_resnet_model_v1.dat')\n",
    "detector = dlib.get_frontal_face_detector()"
   ]
  },
  {
   "cell_type": "code",
   "execution_count": 3,
   "metadata": {},
   "outputs": [
    {
     "data": {
      "text/plain": [
       "['.git',\n",
       " '.ipynb_checkpoints',\n",
       " 'data.pickle',\n",
       " 'dlib_face_recognition_resnet_model_v1.dat.bz2',\n",
       " 'face1',\n",
       " 'file.txt',\n",
       " 'Load_p_face.ipynb',\n",
       " 'model',\n",
       " 'README.md',\n",
       " 'Save_p_face.ipynb',\n",
       " 'shape_predictor_68_face_landmarks.dat.bz2',\n",
       " 'snake.txt',\n",
       " 'Test.ipynb',\n",
       " 'Untitled.ipynb',\n",
       " 'WeDoImage1577452686.jpeg',\n",
       " 'предобработка изображения.ipynb',\n",
       " 'Салофутдинов Семён.txt']"
      ]
     },
     "execution_count": 3,
     "metadata": {},
     "output_type": "execute_result"
    }
   ],
   "source": [
    "os.listdir()"
   ]
  },
  {
   "cell_type": "code",
   "execution_count": 43,
   "metadata": {},
   "outputs": [],
   "source": [
    "os.chdir('..')"
   ]
  },
  {
   "cell_type": "code",
   "execution_count": 44,
   "metadata": {},
   "outputs": [
    {
     "data": {
      "text/plain": [
       "'C:\\\\Users\\\\IQ-6\\\\Documents\\\\мой проект'"
      ]
     },
     "execution_count": 44,
     "metadata": {},
     "output_type": "execute_result"
    }
   ],
   "source": [
    "os.getcwd()"
   ]
  },
  {
   "cell_type": "code",
   "execution_count": 23,
   "metadata": {},
   "outputs": [],
   "source": [
    "name_face=os.listdir()"
   ]
  },
  {
   "cell_type": "code",
   "execution_count": 24,
   "metadata": {},
   "outputs": [
    {
     "data": {
      "text/plain": [
       "['.git',\n",
       " '.ipynb_checkpoints',\n",
       " 'data.pickle',\n",
       " 'dlib_face_recognition_resnet_model_v1.dat.bz2',\n",
       " 'face1',\n",
       " 'file.txt',\n",
       " 'Load_p_face.ipynb',\n",
       " 'model',\n",
       " 'README.md',\n",
       " 'Save_p_face.ipynb',\n",
       " 'shape_predictor_68_face_landmarks.dat.bz2',\n",
       " 'snake.txt',\n",
       " 'Test.ipynb',\n",
       " 'Untitled.ipynb',\n",
       " 'WeDoImage1577452686.jpeg',\n",
       " 'предобработка изображения.ipynb',\n",
       " 'Салофутдинов Семён.txt']"
      ]
     },
     "execution_count": 24,
     "metadata": {},
     "output_type": "execute_result"
    }
   ],
   "source": [
    "os.listdir()"
   ]
  },
  {
   "cell_type": "code",
   "execution_count": 45,
   "metadata": {},
   "outputs": [
    {
     "name": "stdout",
     "output_type": "stream",
     "text": [
      "['Aksimiron.jpg', 'Alex Hahkov.jpg', 'Alex.jpg', 'Anna.jpg', 'Bred Pit.jpg', 'desktop.ini', 'm.kiany.jpg', 's.kiany.jpg', 'Sema.jpg', 'sema1.jpg', 'sema2.jpg']\n"
     ]
    }
   ],
   "source": [
    "os.chdir('face1/face')\n",
    "name_face=os.listdir()\n",
    "print(name_face)"
   ]
  },
  {
   "cell_type": "code",
   "execution_count": 26,
   "metadata": {},
   "outputs": [
    {
     "data": {
      "text/plain": [
       "'Alex.jpg'"
      ]
     },
     "execution_count": 26,
     "metadata": {},
     "output_type": "execute_result"
    }
   ],
   "source": [
    "name_face[2]"
   ]
  },
  {
   "cell_type": "code",
   "execution_count": 46,
   "metadata": {},
   "outputs": [
    {
     "name": "stdout",
     "output_type": "stream",
     "text": [
      "[[[199 200 198]\n",
      "  [199 200 198]\n",
      "  [198 199 197]\n",
      "  ...\n",
      "  [207 208 206]\n",
      "  [207 208 206]\n",
      "  [207 208 206]]\n",
      "\n",
      " [[199 200 198]\n",
      "  [199 200 198]\n",
      "  [198 199 197]\n",
      "  ...\n",
      "  [207 208 206]\n",
      "  [207 208 206]\n",
      "  [207 208 206]]\n",
      "\n",
      " [[199 200 198]\n",
      "  [199 200 198]\n",
      "  [198 199 197]\n",
      "  ...\n",
      "  [207 208 206]\n",
      "  [207 208 206]\n",
      "  [207 208 206]]\n",
      "\n",
      " ...\n",
      "\n",
      " [[ 54  31  15]\n",
      "  [ 53  30  14]\n",
      "  [ 51  28  12]\n",
      "  ...\n",
      "  [230 231 229]\n",
      "  [230 231 229]\n",
      "  [230 231 229]]\n",
      "\n",
      " [[ 54  31  15]\n",
      "  [ 52  29  13]\n",
      "  [ 52  27  11]\n",
      "  ...\n",
      "  [230 231 229]\n",
      "  [230 231 229]\n",
      "  [230 231 229]]\n",
      "\n",
      " [[ 52  29  13]\n",
      "  [ 51  28  12]\n",
      "  [ 51  26  10]\n",
      "  ...\n",
      "  [230 231 229]\n",
      "  [230 231 229]\n",
      "  [230 231 229]]] nen pic\n",
      "[[[163 159 158]\n",
      "  [160 156 155]\n",
      "  [156 152 151]\n",
      "  ...\n",
      "  [176 172 171]\n",
      "  [176 172 171]\n",
      "  [176 172 171]]\n",
      "\n",
      " [[164 160 159]\n",
      "  [161 157 156]\n",
      "  [158 154 153]\n",
      "  ...\n",
      "  [176 172 171]\n",
      "  [176 172 171]\n",
      "  [176 172 171]]\n",
      "\n",
      " [[164 160 159]\n",
      "  [161 157 156]\n",
      "  [158 154 153]\n",
      "  ...\n",
      "  [176 172 171]\n",
      "  [176 172 171]\n",
      "  [176 172 171]]\n",
      "\n",
      " ...\n",
      "\n",
      " [[171 170 166]\n",
      "  [172 171 167]\n",
      "  [173 172 168]\n",
      "  ...\n",
      "  [ 14  19  18]\n",
      "  [ 14  19  18]\n",
      "  [ 11  16  15]]\n",
      "\n",
      " [[175 174 170]\n",
      "  [170 169 165]\n",
      "  [163 162 158]\n",
      "  ...\n",
      "  [ 10  15  14]\n",
      "  [ 11  16  15]\n",
      "  [  9  14  13]]\n",
      "\n",
      " [[162 161 157]\n",
      "  [150 149 145]\n",
      "  [132 131 127]\n",
      "  ...\n",
      "  [ 10  15  14]\n",
      "  [ 11  16  15]\n",
      "  [  8  13  12]]] nen pic\n",
      "[[[20  8  6]\n",
      "  [20  8  6]\n",
      "  [21  9  7]\n",
      "  ...\n",
      "  [20 10 10]\n",
      "  [20 10 10]\n",
      "  [19  9  9]]\n",
      "\n",
      " [[19  7  5]\n",
      "  [19  7  5]\n",
      "  [20  8  6]\n",
      "  ...\n",
      "  [20 10 10]\n",
      "  [19  9  9]\n",
      "  [18  8  8]]\n",
      "\n",
      " [[17  5  3]\n",
      "  [18  6  4]\n",
      "  [19  7  5]\n",
      "  ...\n",
      "  [19  9  9]\n",
      "  [18  8  8]\n",
      "  [17  7  7]]\n",
      "\n",
      " ...\n",
      "\n",
      " [[23 11 11]\n",
      "  [24 12 12]\n",
      "  [25 13 13]\n",
      "  ...\n",
      "  [17  5  3]\n",
      "  [17  5  3]\n",
      "  [17  5  3]]\n",
      "\n",
      " [[23 11 11]\n",
      "  [24 12 12]\n",
      "  [25 13 13]\n",
      "  ...\n",
      "  [17  5  3]\n",
      "  [17  5  3]\n",
      "  [17  5  3]]\n",
      "\n",
      " [[23 11 11]\n",
      "  [24 12 12]\n",
      "  [25 13 13]\n",
      "  ...\n",
      "  [17  5  3]\n",
      "  [17  5  3]\n",
      "  [17  5  3]]] nen pic\n",
      "[[[217 221 209]\n",
      "  [217 221 209]\n",
      "  [217 221 209]\n",
      "  ...\n",
      "  [204 210 209]\n",
      "  [205 210 209]\n",
      "  [205 210 209]]\n",
      "\n",
      " [[217 221 209]\n",
      "  [217 221 209]\n",
      "  [217 221 209]\n",
      "  ...\n",
      "  [204 210 209]\n",
      "  [205 210 209]\n",
      "  [205 210 209]]\n",
      "\n",
      " [[217 221 209]\n",
      "  [217 221 209]\n",
      "  [217 221 209]\n",
      "  ...\n",
      "  [204 210 209]\n",
      "  [205 210 209]\n",
      "  [205 210 209]]\n",
      "\n",
      " ...\n",
      "\n",
      " [[163 180 177]\n",
      "  [163 180 177]\n",
      "  [163 180 177]\n",
      "  ...\n",
      "  [187 193 192]\n",
      "  [189 194 193]\n",
      "  [191 196 195]]\n",
      "\n",
      " [[163 180 177]\n",
      "  [163 180 177]\n",
      "  [163 180 177]\n",
      "  ...\n",
      "  [187 193 192]\n",
      "  [189 194 193]\n",
      "  [190 195 194]]\n",
      "\n",
      " [[163 180 177]\n",
      "  [163 180 177]\n",
      "  [163 180 177]\n",
      "  ...\n",
      "  [187 193 192]\n",
      "  [189 194 193]\n",
      "  [190 195 194]]] nen pic\n",
      "[[[135 140 141]\n",
      "  [135 140 141]\n",
      "  [135 140 141]\n",
      "  ...\n",
      "  [161 162 166]\n",
      "  [161 162 166]\n",
      "  [161 162 166]]\n",
      "\n",
      " [[135 140 141]\n",
      "  [134 139 140]\n",
      "  [134 139 140]\n",
      "  ...\n",
      "  [161 162 166]\n",
      "  [161 162 166]\n",
      "  [161 162 166]]\n",
      "\n",
      " [[133 138 139]\n",
      "  [133 138 139]\n",
      "  [133 138 139]\n",
      "  ...\n",
      "  [161 162 166]\n",
      "  [161 162 166]\n",
      "  [161 162 166]]\n",
      "\n",
      " ...\n",
      "\n",
      " [[ 90  91  89]\n",
      "  [ 85  86  84]\n",
      "  [ 78  79  77]\n",
      "  ...\n",
      "  [137 143 138]\n",
      "  [139 143 138]\n",
      "  [138 142 137]]\n",
      "\n",
      " [[ 86  87  85]\n",
      "  [ 82  83  81]\n",
      "  [ 74  75  73]\n",
      "  ...\n",
      "  [140 146 141]\n",
      "  [141 145 140]\n",
      "  [141 145 140]]\n",
      "\n",
      " [[ 81  82  80]\n",
      "  [ 77  78  76]\n",
      "  [ 70  71  69]\n",
      "  ...\n",
      "  [139 146 143]\n",
      "  [139 146 143]\n",
      "  [142 149 146]]] nen pic\n",
      "None nen pic\n"
     ]
    },
    {
     "ename": "TypeError",
     "evalue": "__call__(): incompatible function arguments. The following argument types are supported:\n    1. (self: dlib.fhog_object_detector, image: array, upsample_num_times: int=0) -> dlib.rectangles\n\nInvoked with: <dlib.fhog_object_detector object at 0x000001AEA5C66B58>, None, 1",
     "output_type": "error",
     "traceback": [
      "\u001b[1;31m---------------------------------------------------------------------------\u001b[0m",
      "\u001b[1;31mTypeError\u001b[0m                                 Traceback (most recent call last)",
      "\u001b[1;32m<ipython-input-46-d903f76897d3>\u001b[0m in \u001b[0;36m<module>\u001b[1;34m\u001b[0m\n\u001b[0;32m      5\u001b[0m     \u001b[1;31m#cv2.waitKey(0)\u001b[0m\u001b[1;33m\u001b[0m\u001b[1;33m\u001b[0m\u001b[1;33m\u001b[0m\u001b[0m\n\u001b[0;32m      6\u001b[0m     \u001b[1;31m#cv2.destroyAllWindows()\u001b[0m\u001b[1;33m\u001b[0m\u001b[1;33m\u001b[0m\u001b[1;33m\u001b[0m\u001b[0m\n\u001b[1;32m----> 7\u001b[1;33m     \u001b[0mfaces_1\u001b[0m \u001b[1;33m=\u001b[0m \u001b[0mdetector\u001b[0m\u001b[1;33m(\u001b[0m\u001b[0mpic\u001b[0m\u001b[1;33m,\u001b[0m \u001b[1;36m1\u001b[0m\u001b[1;33m)\u001b[0m\u001b[1;33m\u001b[0m\u001b[1;33m\u001b[0m\u001b[0m\n\u001b[0m\u001b[0;32m      8\u001b[0m     \u001b[0mshape\u001b[0m \u001b[1;33m=\u001b[0m \u001b[0msp\u001b[0m\u001b[1;33m(\u001b[0m\u001b[0mpic\u001b[0m\u001b[1;33m,\u001b[0m \u001b[0mfaces_1\u001b[0m\u001b[1;33m[\u001b[0m\u001b[1;36m0\u001b[0m\u001b[1;33m]\u001b[0m\u001b[1;33m)\u001b[0m\u001b[1;33m\u001b[0m\u001b[1;33m\u001b[0m\u001b[0m\n\u001b[0;32m      9\u001b[0m     \u001b[0mface_descriptor_1\u001b[0m \u001b[1;33m=\u001b[0m \u001b[0mfacerec\u001b[0m\u001b[1;33m.\u001b[0m\u001b[0mcompute_face_descriptor\u001b[0m\u001b[1;33m(\u001b[0m\u001b[0mpic\u001b[0m\u001b[1;33m,\u001b[0m \u001b[0mshape\u001b[0m\u001b[1;33m)\u001b[0m\u001b[1;33m\u001b[0m\u001b[1;33m\u001b[0m\u001b[0m\n",
      "\u001b[1;31mTypeError\u001b[0m: __call__(): incompatible function arguments. The following argument types are supported:\n    1. (self: dlib.fhog_object_detector, image: array, upsample_num_times: int=0) -> dlib.rectangles\n\nInvoked with: <dlib.fhog_object_detector object at 0x000001AEA5C66B58>, None, 1"
     ]
    }
   ],
   "source": [
    "for i in name_face:\n",
    "    pic = cv2.imread(i)\n",
    "    print(pic, 'nen pic')\n",
    "    #cv2.imshow('pic',pic)\n",
    "    #cv2.waitKey(0)\n",
    "    #cv2.destroyAllWindows()\n",
    "    faces_1 = detector(pic, 1)\n",
    "    shape = sp(pic, faces_1[0])\n",
    "    face_descriptor_1 = facerec.compute_face_descriptor(pic, shape)\n",
    "    data = {i:str(face_descriptor_1)}\n",
    "    os.chdir('..')\n",
    "    with open(i, 'wb') as f:\n",
    "        pickle.dump(data, f)\n",
    "    os.chdir('face')"
   ]
  },
  {
   "cell_type": "code",
   "execution_count": 28,
   "metadata": {},
   "outputs": [
    {
     "data": {
      "text/plain": [
       "rectangles[[(110, 233) (664, 788)]]"
      ]
     },
     "execution_count": 28,
     "metadata": {},
     "output_type": "execute_result"
    }
   ],
   "source": [
    "faces_1"
   ]
  },
  {
   "cell_type": "code",
   "execution_count": 29,
   "metadata": {},
   "outputs": [
    {
     "data": {
      "text/plain": [
       "dlib.vector([-0.032471, 0.0769248, 0.0612868, -0.0151784, -0.12151, 0.0194497, -0.0729499, -0.057029, 0.193483, -0.0719847, 0.199355, 0.0519006, -0.189616, -0.0890762, -0.0567035, 0.0383386, -0.0896298, -0.0965294, -0.0576117, -0.0106317, 0.0453908, 0.0416373, 0.0292517, 0.0358364, -0.0149143, -0.359557, -0.156451, -0.0335047, 0.081784, -0.189911, -0.00774991, 0.0373888, -0.193805, -0.0928457, -0.0562042, -0.00395209, -0.155539, -0.113562, 0.191663, 0.0482003, -0.0874529, 0.0279802, -0.0528771, 0.276128, 0.165234, 0.0637262, -0.018988, -0.0386267, 0.153535, -0.218503, 0.0144244, 0.255617, 0.223499, 0.0475621, 0.121501, -0.0807521, 0.114433, 0.156738, -0.238136, 0.101562, -0.0401433, -0.150689, 0.0300427, -0.0595178, 0.196075, 0.077997, -0.0363165, -0.109506, 0.167288, -0.117773, -0.0407186, 0.0528356, -0.0961157, -0.213997, -0.226662, 0.0240428, 0.313933, 0.191394, -0.196987, 0.0834254, -0.0961875, -0.0532788, -0.0314388, 0.0766189, -0.13828, -0.0742542, -0.150253, -0.0337195, 0.104426, 0.0148734, -0.00519683, 0.243665, 0.025876, 0.0443773, 0.0590107, -0.0656543, -0.133222, 0.00331339, -0.0355109, 0.00311239, -0.00307491, -0.142063, -0.0206428, 0.0711295, -0.152272, 0.192188, -0.0206699, 0.0106722, 0.00747578, -0.0835406, -0.0898887, -0.0125138, 0.132157, -0.337308, 0.21665, 0.107304, 0.00658768, 0.187522, 0.0200161, 0.116827, -0.0749761, -0.0734857, -0.144075, -0.0930084, 0.0297634, -0.0715648, 0.000104296, 0.0354888])"
      ]
     },
     "execution_count": 29,
     "metadata": {},
     "output_type": "execute_result"
    }
   ],
   "source": [
    "   face_descriptor_1"
   ]
  },
  {
   "cell_type": "code",
   "execution_count": null,
   "metadata": {},
   "outputs": [],
   "source": []
  }
 ],
 "metadata": {
  "kernelspec": {
   "display_name": "Python 3",
   "language": "python",
   "name": "python3"
  },
  "language_info": {
   "codemirror_mode": {
    "name": "ipython",
    "version": 3
   },
   "file_extension": ".py",
   "mimetype": "text/x-python",
   "name": "python",
   "nbconvert_exporter": "python",
   "pygments_lexer": "ipython3",
   "version": "3.6.9"
  }
 },
 "nbformat": 4,
 "nbformat_minor": 2
}
