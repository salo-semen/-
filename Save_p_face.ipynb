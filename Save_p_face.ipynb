{
 "cells": [
  {
   "cell_type": "code",
   "execution_count": 56,
   "metadata": {},
   "outputs": [],
   "source": [
    "import dlib\n",
    "import cv2\n",
    "import pickle\n",
    "import os\n",
    "from scipy.spatial import distance "
   ]
  },
  {
   "cell_type": "code",
   "execution_count": 81,
   "metadata": {},
   "outputs": [],
   "source": [
    "sp = dlib.shape_predictor('model\\shape_predictor_68_face_landmarks.dat')\n",
    "facerec = dlib.face_recognition_model_v1('model\\dlib_face_recognition_resnet_model_v1.dat')\n",
    "detector = dlib.get_frontal_face_detector()"
   ]
  },
  {
   "cell_type": "code",
   "execution_count": 76,
   "metadata": {},
   "outputs": [
    {
     "data": {
      "text/plain": [
       "['.ipynb_checkpoints',\n",
       " 'data.pickle',\n",
       " 'dlib_face_recognition_resnet_model_v1.dat.bz2',\n",
       " 'face1',\n",
       " 'file.txt',\n",
       " 'Load_p_face.ipynb',\n",
       " 'model',\n",
       " 'Save_p_face.ipynb',\n",
       " 'shape_predictor_68_face_landmarks.dat.bz2',\n",
       " 'snake.txt',\n",
       " 'Test.ipynb',\n",
       " 'Untitled.ipynb',\n",
       " 'WeDoImage1577452686.jpeg',\n",
       " 'предобработка изображения.ipynb',\n",
       " 'Салофутдинов Семён.txt']"
      ]
     },
     "execution_count": 76,
     "metadata": {},
     "output_type": "execute_result"
    }
   ],
   "source": [
    "os.listdir()"
   ]
  },
  {
   "cell_type": "code",
   "execution_count": 79,
   "metadata": {},
   "outputs": [],
   "source": [
    "os.chdir('..')"
   ]
  },
  {
   "cell_type": "code",
   "execution_count": 80,
   "metadata": {},
   "outputs": [
    {
     "data": {
      "text/plain": [
       "'C:\\\\Users\\\\IQ-6\\\\Documents\\\\мой проект'"
      ]
     },
     "execution_count": 80,
     "metadata": {},
     "output_type": "execute_result"
    }
   ],
   "source": [
    "os.getcwd()"
   ]
  },
  {
   "cell_type": "code",
   "execution_count": 66,
   "metadata": {},
   "outputs": [],
   "source": [
    "name_face=os.listdir()"
   ]
  },
  {
   "cell_type": "code",
   "execution_count": 67,
   "metadata": {},
   "outputs": [
    {
     "data": {
      "text/plain": [
       "['Aksimiron.jpg', 'Alex Hahkov.jpg', 'Bred Pit.jpg', 'face', 'Sema.jpg']"
      ]
     },
     "execution_count": 67,
     "metadata": {},
     "output_type": "execute_result"
    }
   ],
   "source": [
    "os.listdir()"
   ]
  },
  {
   "cell_type": "code",
   "execution_count": 82,
   "metadata": {},
   "outputs": [
    {
     "name": "stdout",
     "output_type": "stream",
     "text": [
      "['Aksimiron.jpg', 'Alex Hahkov.jpg', 'Bred Pit.jpg', 'desktop.ini', 'Sema.jpg']\n"
     ]
    }
   ],
   "source": [
    "os.chdir('face1/face')\n",
    "name_face=os.listdir()\n",
    "print(name_face)"
   ]
  },
  {
   "cell_type": "code",
   "execution_count": 69,
   "metadata": {},
   "outputs": [
    {
     "data": {
      "text/plain": [
       "'Bred Pit.jpg'"
      ]
     },
     "execution_count": 69,
     "metadata": {},
     "output_type": "execute_result"
    }
   ],
   "source": [
    "name_face[2]"
   ]
  },
  {
   "cell_type": "code",
   "execution_count": 83,
   "metadata": {},
   "outputs": [
    {
     "name": "stdout",
     "output_type": "stream",
     "text": [
      "[[[199 200 198]\n",
      "  [199 200 198]\n",
      "  [198 199 197]\n",
      "  ...\n",
      "  [207 208 206]\n",
      "  [207 208 206]\n",
      "  [207 208 206]]\n",
      "\n",
      " [[199 200 198]\n",
      "  [199 200 198]\n",
      "  [198 199 197]\n",
      "  ...\n",
      "  [207 208 206]\n",
      "  [207 208 206]\n",
      "  [207 208 206]]\n",
      "\n",
      " [[199 200 198]\n",
      "  [199 200 198]\n",
      "  [198 199 197]\n",
      "  ...\n",
      "  [207 208 206]\n",
      "  [207 208 206]\n",
      "  [207 208 206]]\n",
      "\n",
      " ...\n",
      "\n",
      " [[ 54  31  15]\n",
      "  [ 53  30  14]\n",
      "  [ 51  28  12]\n",
      "  ...\n",
      "  [230 231 229]\n",
      "  [230 231 229]\n",
      "  [230 231 229]]\n",
      "\n",
      " [[ 54  31  15]\n",
      "  [ 52  29  13]\n",
      "  [ 52  27  11]\n",
      "  ...\n",
      "  [230 231 229]\n",
      "  [230 231 229]\n",
      "  [230 231 229]]\n",
      "\n",
      " [[ 52  29  13]\n",
      "  [ 51  28  12]\n",
      "  [ 51  26  10]\n",
      "  ...\n",
      "  [230 231 229]\n",
      "  [230 231 229]\n",
      "  [230 231 229]]] nen pic\n",
      "[[[163 159 158]\n",
      "  [160 156 155]\n",
      "  [156 152 151]\n",
      "  ...\n",
      "  [176 172 171]\n",
      "  [176 172 171]\n",
      "  [176 172 171]]\n",
      "\n",
      " [[164 160 159]\n",
      "  [161 157 156]\n",
      "  [158 154 153]\n",
      "  ...\n",
      "  [176 172 171]\n",
      "  [176 172 171]\n",
      "  [176 172 171]]\n",
      "\n",
      " [[164 160 159]\n",
      "  [161 157 156]\n",
      "  [158 154 153]\n",
      "  ...\n",
      "  [176 172 171]\n",
      "  [176 172 171]\n",
      "  [176 172 171]]\n",
      "\n",
      " ...\n",
      "\n",
      " [[171 170 166]\n",
      "  [172 171 167]\n",
      "  [173 172 168]\n",
      "  ...\n",
      "  [ 14  19  18]\n",
      "  [ 14  19  18]\n",
      "  [ 11  16  15]]\n",
      "\n",
      " [[175 174 170]\n",
      "  [170 169 165]\n",
      "  [163 162 158]\n",
      "  ...\n",
      "  [ 10  15  14]\n",
      "  [ 11  16  15]\n",
      "  [  9  14  13]]\n",
      "\n",
      " [[162 161 157]\n",
      "  [150 149 145]\n",
      "  [132 131 127]\n",
      "  ...\n",
      "  [ 10  15  14]\n",
      "  [ 11  16  15]\n",
      "  [  8  13  12]]] nen pic\n",
      "[[[135 140 141]\n",
      "  [135 140 141]\n",
      "  [135 140 141]\n",
      "  ...\n",
      "  [161 162 166]\n",
      "  [161 162 166]\n",
      "  [161 162 166]]\n",
      "\n",
      " [[135 140 141]\n",
      "  [134 139 140]\n",
      "  [134 139 140]\n",
      "  ...\n",
      "  [161 162 166]\n",
      "  [161 162 166]\n",
      "  [161 162 166]]\n",
      "\n",
      " [[133 138 139]\n",
      "  [133 138 139]\n",
      "  [133 138 139]\n",
      "  ...\n",
      "  [161 162 166]\n",
      "  [161 162 166]\n",
      "  [161 162 166]]\n",
      "\n",
      " ...\n",
      "\n",
      " [[ 90  91  89]\n",
      "  [ 85  86  84]\n",
      "  [ 78  79  77]\n",
      "  ...\n",
      "  [137 143 138]\n",
      "  [139 143 138]\n",
      "  [138 142 137]]\n",
      "\n",
      " [[ 86  87  85]\n",
      "  [ 82  83  81]\n",
      "  [ 74  75  73]\n",
      "  ...\n",
      "  [140 146 141]\n",
      "  [141 145 140]\n",
      "  [141 145 140]]\n",
      "\n",
      " [[ 81  82  80]\n",
      "  [ 77  78  76]\n",
      "  [ 70  71  69]\n",
      "  ...\n",
      "  [139 146 143]\n",
      "  [139 146 143]\n",
      "  [142 149 146]]] nen pic\n",
      "None nen pic\n"
     ]
    },
    {
     "ename": "TypeError",
     "evalue": "__call__(): incompatible function arguments. The following argument types are supported:\n    1. (self: dlib.fhog_object_detector, image: array, upsample_num_times: int=0) -> dlib.rectangles\n\nInvoked with: <dlib.fhog_object_detector object at 0x00000218D0229D18>, None, 1",
     "output_type": "error",
     "traceback": [
      "\u001b[1;31m---------------------------------------------------------------------------\u001b[0m",
      "\u001b[1;31mTypeError\u001b[0m                                 Traceback (most recent call last)",
      "\u001b[1;32m<ipython-input-83-d903f76897d3>\u001b[0m in \u001b[0;36m<module>\u001b[1;34m\u001b[0m\n\u001b[0;32m      5\u001b[0m     \u001b[1;31m#cv2.waitKey(0)\u001b[0m\u001b[1;33m\u001b[0m\u001b[1;33m\u001b[0m\u001b[1;33m\u001b[0m\u001b[0m\n\u001b[0;32m      6\u001b[0m     \u001b[1;31m#cv2.destroyAllWindows()\u001b[0m\u001b[1;33m\u001b[0m\u001b[1;33m\u001b[0m\u001b[1;33m\u001b[0m\u001b[0m\n\u001b[1;32m----> 7\u001b[1;33m     \u001b[0mfaces_1\u001b[0m \u001b[1;33m=\u001b[0m \u001b[0mdetector\u001b[0m\u001b[1;33m(\u001b[0m\u001b[0mpic\u001b[0m\u001b[1;33m,\u001b[0m \u001b[1;36m1\u001b[0m\u001b[1;33m)\u001b[0m\u001b[1;33m\u001b[0m\u001b[1;33m\u001b[0m\u001b[0m\n\u001b[0m\u001b[0;32m      8\u001b[0m     \u001b[0mshape\u001b[0m \u001b[1;33m=\u001b[0m \u001b[0msp\u001b[0m\u001b[1;33m(\u001b[0m\u001b[0mpic\u001b[0m\u001b[1;33m,\u001b[0m \u001b[0mfaces_1\u001b[0m\u001b[1;33m[\u001b[0m\u001b[1;36m0\u001b[0m\u001b[1;33m]\u001b[0m\u001b[1;33m)\u001b[0m\u001b[1;33m\u001b[0m\u001b[1;33m\u001b[0m\u001b[0m\n\u001b[0;32m      9\u001b[0m     \u001b[0mface_descriptor_1\u001b[0m \u001b[1;33m=\u001b[0m \u001b[0mfacerec\u001b[0m\u001b[1;33m.\u001b[0m\u001b[0mcompute_face_descriptor\u001b[0m\u001b[1;33m(\u001b[0m\u001b[0mpic\u001b[0m\u001b[1;33m,\u001b[0m \u001b[0mshape\u001b[0m\u001b[1;33m)\u001b[0m\u001b[1;33m\u001b[0m\u001b[1;33m\u001b[0m\u001b[0m\n",
      "\u001b[1;31mTypeError\u001b[0m: __call__(): incompatible function arguments. The following argument types are supported:\n    1. (self: dlib.fhog_object_detector, image: array, upsample_num_times: int=0) -> dlib.rectangles\n\nInvoked with: <dlib.fhog_object_detector object at 0x00000218D0229D18>, None, 1"
     ]
    }
   ],
   "source": [
    "for i in name_face:\n",
    "    pic = cv2.imread(i)\n",
    "    print(pic, 'nen pic')\n",
    "    #cv2.imshow('pic',pic)\n",
    "    #cv2.waitKey(0)\n",
    "    #cv2.destroyAllWindows()\n",
    "    faces_1 = detector(pic, 1)\n",
    "    shape = sp(pic, faces_1[0])\n",
    "    face_descriptor_1 = facerec.compute_face_descriptor(pic, shape)\n",
    "    data = {i:str(face_descriptor_1)}\n",
    "    os.chdir('..')\n",
    "    with open(i, 'wb') as f:\n",
    "        pickle.dump(data, f)\n",
    "    os.chdir('face')"
   ]
  },
  {
   "cell_type": "code",
   "execution_count": null,
   "metadata": {},
   "outputs": [],
   "source": []
  }
 ],
 "metadata": {
  "kernelspec": {
   "display_name": "Python 3",
   "language": "python",
   "name": "python3"
  },
  "language_info": {
   "codemirror_mode": {
    "name": "ipython",
    "version": 3
   },
   "file_extension": ".py",
   "mimetype": "text/x-python",
   "name": "python",
   "nbconvert_exporter": "python",
   "pygments_lexer": "ipython3",
   "version": "3.6.9"
  }
 },
 "nbformat": 4,
 "nbformat_minor": 2
}
