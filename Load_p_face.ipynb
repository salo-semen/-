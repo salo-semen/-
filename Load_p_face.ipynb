{
 "cells": [
  {
   "cell_type": "code",
   "execution_count": 1,
   "metadata": {},
   "outputs": [
    {
     "ename": "NameError",
     "evalue": "name 'pickle' is not defined",
     "output_type": "error",
     "traceback": [
      "\u001b[1;31m---------------------------------------------------------------------------\u001b[0m",
      "\u001b[1;31mNameError\u001b[0m                                 Traceback (most recent call last)",
      "\u001b[1;32m<ipython-input-1-981d524200a1>\u001b[0m in \u001b[0;36m<module>\u001b[1;34m\u001b[0m\n\u001b[0;32m      1\u001b[0m \u001b[0mfile\u001b[0m \u001b[1;33m=\u001b[0m \u001b[0mopen\u001b[0m\u001b[1;33m(\u001b[0m\u001b[1;34m\"file.txt\"\u001b[0m\u001b[1;33m,\u001b[0m \u001b[1;34m'r'\u001b[0m\u001b[1;33m)\u001b[0m\u001b[1;33m\u001b[0m\u001b[1;33m\u001b[0m\u001b[0m\n\u001b[1;32m----> 2\u001b[1;33m \u001b[0mdata\u001b[0m \u001b[1;33m=\u001b[0m \u001b[0mpickle\u001b[0m\u001b[1;33m.\u001b[0m\u001b[0mload\u001b[0m\u001b[1;33m(\u001b[0m\u001b[0mfile\u001b[0m\u001b[1;33m)\u001b[0m\u001b[1;33m\u001b[0m\u001b[1;33m\u001b[0m\u001b[0m\n\u001b[0m\u001b[0;32m      3\u001b[0m \u001b[0mfile\u001b[0m\u001b[1;33m.\u001b[0m\u001b[0mclose\u001b[0m\u001b[1;33m(\u001b[0m\u001b[1;33m)\u001b[0m\u001b[1;33m\u001b[0m\u001b[1;33m\u001b[0m\u001b[0m\n\u001b[0;32m      4\u001b[0m \u001b[0mprint\u001b[0m \u001b[1;33m(\u001b[0m\u001b[0mdata\u001b[0m\u001b[1;33m)\u001b[0m\u001b[1;33m\u001b[0m\u001b[1;33m\u001b[0m\u001b[0m\n",
      "\u001b[1;31mNameError\u001b[0m: name 'pickle' is not defined"
     ]
    }
   ],
   "source": [
    "file = open(\"file.txt\", 'r')\n",
    "data = pickle.load(file)\n",
    "file.close()\n",
    "print (data)"
   ]
  },
  {
   "cell_type": "code",
   "execution_count": 35,
   "metadata": {},
   "outputs": [],
   "source": [
    "import dlib\n",
    "import cv2\n",
    "import pickle\n",
    "from itertools import chain\n",
    "import os\n",
    "from scipy.spatial import distance "
   ]
  },
  {
   "cell_type": "code",
   "execution_count": 39,
   "metadata": {},
   "outputs": [
    {
     "data": {
      "text/plain": [
       "'C:\\\\Users\\\\IQ-6\\\\Documents\\\\мой проект'"
      ]
     },
     "execution_count": 39,
     "metadata": {},
     "output_type": "execute_result"
    }
   ],
   "source": [
    "os.getcwd()"
   ]
  },
  {
   "cell_type": "code",
   "execution_count": 43,
   "metadata": {},
   "outputs": [],
   "source": [
    "os.chdir('face1')"
   ]
  },
  {
   "cell_type": "code",
   "execution_count": 44,
   "metadata": {},
   "outputs": [],
   "source": [
    "f_l=os.listdir()"
   ]
  },
  {
   "cell_type": "code",
   "execution_count": 42,
   "metadata": {},
   "outputs": [],
   "source": [
    "os.chdir('..')"
   ]
  },
  {
   "cell_type": "code",
   "execution_count": 45,
   "metadata": {},
   "outputs": [
    {
     "data": {
      "text/plain": [
       "'Anna.jpg'"
      ]
     },
     "execution_count": 45,
     "metadata": {},
     "output_type": "execute_result"
    }
   ],
   "source": [
    "f_l[3]"
   ]
  },
  {
   "cell_type": "code",
   "execution_count": 47,
   "metadata": {},
   "outputs": [],
   "source": [
    "f_l.remove('face')"
   ]
  },
  {
   "cell_type": "code",
   "execution_count": 48,
   "metadata": {},
   "outputs": [
    {
     "data": {
      "text/plain": [
       "['Aksimiron.jpg',\n",
       " 'Alex Hahkov.jpg',\n",
       " 'Alex.jpg',\n",
       " 'Anna.jpg',\n",
       " 'Bred Pit.jpg',\n",
       " 'Sema.jpg']"
      ]
     },
     "execution_count": 48,
     "metadata": {},
     "output_type": "execute_result"
    }
   ],
   "source": [
    "f_l"
   ]
  },
  {
   "cell_type": "code",
   "execution_count": 50,
   "metadata": {
    "scrolled": true
   },
   "outputs": [],
   "source": [
    "data_old=[]\n",
    "for i in f_l:\n",
    "    with open(i, 'rb') as f:\n",
    "        data_new = pickle.load(f)\n",
    "    data_old.append(data_new.values())"
   ]
  },
  {
   "cell_type": "code",
   "execution_count": 51,
   "metadata": {},
   "outputs": [
    {
     "data": {
      "text/plain": [
       "dict_values(['-0.122832\\n0.0582452\\n-0.0486016\\n-0.00606575\\n-0.0583433\\n-0.0297513\\n-0.0292895\\n-0.143924\\n0.141057\\n-0.0567418\\n0.30273\\n-0.0517584\\n-0.179984\\n-0.120265\\n-0.0501625\\n0.138828\\n-0.14646\\n-0.127921\\n0.0192516\\n0.059238\\n0.106263\\n-0.0653729\\n0.0155685\\n0.116505\\n0.0266216\\n-0.312773\\n-0.135405\\n-0.0972344\\n0.112082\\n-0.0620021\\n-0.0892774\\n0.0158581\\n-0.166407\\n-0.0752618\\n-0.0115597\\n0.028683\\n-0.0354417\\n-0.0253607\\n0.239142\\n-0.0463246\\n-0.211476\\n0.0167137\\n0.0654366\\n0.253387\\n0.187375\\n0.0318296\\n-0.0345087\\n-0.074133\\n0.0269983\\n-0.153958\\n0.0571637\\n0.153665\\n0.172046\\n0.0551843\\n-0.0324097\\n-0.116102\\n-0.0243643\\n0.114247\\n-0.217629\\n0.0212904\\n0.0246\\n-0.0545845\\n-0.0320354\\n-0.094272\\n0.211403\\n0.115153\\n-0.116565\\n-0.197336\\n0.0956244\\n-0.214848\\n-0.0822566\\n0.0884213\\n-0.123272\\n-0.223996\\n-0.2748\\n0.0446444\\n0.317947\\n0.123451\\n-0.181783\\n0.089417\\n-0.00295798\\n-0.125125\\n0.0696942\\n0.112318\\n0.0019303\\n0.0297007\\n-0.113268\\n-0.0763456\\n0.141576\\n-0.0341072\\n0.0136684\\n0.216291\\n-0.0163334\\n0.0370686\\n0.0476398\\n0.0984227\\n0.00151635\\n0.0130093\\n-0.16607\\n-0.0301745\\n-0.0758328\\n-0.0506699\\n-0.0261999\\n0.0404737\\n-0.161014\\n0.116459\\n0.0165246\\n0.00649186\\n-0.0424176\\n-0.0488207\\n-0.0680378\\n-0.051811\\n0.118059\\n-0.25242\\n0.179529\\n0.137371\\n0.121156\\n0.1265\\n0.0719388\\n0.0650722\\n-0.00201457\\n-0.060302\\n-0.202262\\n-0.010259\\n0.0805552\\n-0.0704955\\n0.0628837\\n0.0231333'])"
      ]
     },
     "execution_count": 51,
     "metadata": {},
     "output_type": "execute_result"
    }
   ],
   "source": [
    "data_old[5]"
   ]
  },
  {
   "cell_type": "code",
   "execution_count": 30,
   "metadata": {},
   "outputs": [
    {
     "ename": "SyntaxError",
     "evalue": "unexpected EOF while parsing (<ipython-input-30-b68d6943d678>, line 3)",
     "output_type": "error",
     "traceback": [
      "\u001b[1;36m  File \u001b[1;32m\"<ipython-input-30-b68d6943d678>\"\u001b[1;36m, line \u001b[1;32m3\u001b[0m\n\u001b[1;33m    \u001b[0m\n\u001b[1;37m    ^\u001b[0m\n\u001b[1;31mSyntaxError\u001b[0m\u001b[1;31m:\u001b[0m unexpected EOF while parsing\n"
     ]
    }
   ],
   "source": [
    "for i in f_l:\n",
    "            "
   ]
  },
  {
   "cell_type": "code",
   "execution_count": 32,
   "metadata": {},
   "outputs": [
    {
     "ename": "AttributeError",
     "evalue": "'list' object has no attribute 'read'",
     "output_type": "error",
     "traceback": [
      "\u001b[1;31m---------------------------------------------------------------------------\u001b[0m",
      "\u001b[1;31mAttributeError\u001b[0m                            Traceback (most recent call last)",
      "\u001b[1;32m<ipython-input-32-9325312309ce>\u001b[0m in \u001b[0;36m<module>\u001b[1;34m\u001b[0m\n\u001b[1;32m----> 1\u001b[1;33m \u001b[0ma\u001b[0m\u001b[1;33m=\u001b[0m\u001b[0mf_l\u001b[0m\u001b[1;33m.\u001b[0m\u001b[0mread\u001b[0m\u001b[1;33m\u001b[0m\u001b[1;33m\u001b[0m\u001b[0m\n\u001b[0m",
      "\u001b[1;31mAttributeError\u001b[0m: 'list' object has no attribute 'read'"
     ]
    }
   ],
   "source": []
  },
  {
   "cell_type": "code",
   "execution_count": null,
   "metadata": {},
   "outputs": [],
   "source": []
  }
 ],
 "metadata": {
  "kernelspec": {
   "display_name": "Python 3",
   "language": "python",
   "name": "python3"
  },
  "language_info": {
   "codemirror_mode": {
    "name": "ipython",
    "version": 3
   },
   "file_extension": ".py",
   "mimetype": "text/x-python",
   "name": "python",
   "nbconvert_exporter": "python",
   "pygments_lexer": "ipython3",
   "version": "3.6.9"
  }
 },
 "nbformat": 4,
 "nbformat_minor": 2
}
