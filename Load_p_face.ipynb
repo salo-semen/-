{
 "cells": [
  {
   "cell_type": "code",
   "execution_count": null,
   "metadata": {},
   "outputs": [],
   "source": [
    "file = open(\"file.txt\", 'r')\n",
    "data = cPickle.load(file)\n",
    "file.close()\n",
    "print data"
   ]
  },
  {
   "cell_type": "code",
   "execution_count": 11,
   "metadata": {},
   "outputs": [],
   "source": [
    "import dlib\n",
    "import cv2\n",
    "import pickle\n",
    "import os\n",
    "from scipy.spatial import distance "
   ]
  },
  {
   "cell_type": "code",
   "execution_count": 2,
   "metadata": {},
   "outputs": [
    {
     "data": {
      "text/plain": [
       "'C:\\\\Users\\\\IQ-6\\\\Documents\\\\мой проект'"
      ]
     },
     "execution_count": 2,
     "metadata": {},
     "output_type": "execute_result"
    }
   ],
   "source": [
    "os.getcwd()"
   ]
  },
  {
   "cell_type": "code",
   "execution_count": 4,
   "metadata": {},
   "outputs": [],
   "source": [
    "os.chdir('face1')"
   ]
  },
  {
   "cell_type": "code",
   "execution_count": 6,
   "metadata": {},
   "outputs": [],
   "source": [
    "f_l=os.listdir()"
   ]
  },
  {
   "cell_type": "code",
   "execution_count": 8,
   "metadata": {},
   "outputs": [
    {
     "data": {
      "text/plain": [
       "'face'"
      ]
     },
     "execution_count": 8,
     "metadata": {},
     "output_type": "execute_result"
    }
   ],
   "source": [
    "f_l[3]"
   ]
  },
  {
   "cell_type": "code",
   "execution_count": 9,
   "metadata": {},
   "outputs": [],
   "source": [
    "f_l.remove('face')"
   ]
  },
  {
   "cell_type": "code",
   "execution_count": 10,
   "metadata": {},
   "outputs": [
    {
     "data": {
      "text/plain": [
       "['Aksimiron.jpg', 'Alex Hahkov.jpg', 'Bred Pit.jpg', 'Sema.jpg']"
      ]
     },
     "execution_count": 10,
     "metadata": {},
     "output_type": "execute_result"
    }
   ],
   "source": [
    "f_l"
   ]
  },
  {
   "cell_type": "code",
   "execution_count": 24,
   "metadata": {
    "scrolled": true
   },
   "outputs": [],
   "source": [
    "for i in f_l:\n",
    "    with open(i, 'rb') as f:\n",
    "        data_new = pickle.load(f)\n",
    "    data_old.append(data_new)"
   ]
  },
  {
   "cell_type": "code",
   "execution_count": 28,
   "metadata": {},
   "outputs": [
    {
     "data": {
      "text/plain": [
       "{'Bred Pit.jpg': '-0.032471\\n0.0769248\\n0.0612868\\n-0.0151784\\n-0.12151\\n0.0194497\\n-0.0729499\\n-0.057029\\n0.193483\\n-0.0719847\\n0.199355\\n0.0519006\\n-0.189616\\n-0.0890762\\n-0.0567035\\n0.0383386\\n-0.0896298\\n-0.0965294\\n-0.0576117\\n-0.0106317\\n0.0453908\\n0.0416373\\n0.0292517\\n0.0358364\\n-0.0149143\\n-0.359557\\n-0.156451\\n-0.0335047\\n0.081784\\n-0.189911\\n-0.00774991\\n0.0373888\\n-0.193805\\n-0.0928457\\n-0.0562042\\n-0.00395209\\n-0.155539\\n-0.113562\\n0.191663\\n0.0482003\\n-0.0874529\\n0.0279802\\n-0.0528771\\n0.276128\\n0.165234\\n0.0637262\\n-0.018988\\n-0.0386267\\n0.153535\\n-0.218503\\n0.0144244\\n0.255617\\n0.223499\\n0.0475621\\n0.121501\\n-0.0807521\\n0.114433\\n0.156738\\n-0.238136\\n0.101562\\n-0.0401433\\n-0.150689\\n0.0300427\\n-0.0595178\\n0.196075\\n0.077997\\n-0.0363165\\n-0.109506\\n0.167288\\n-0.117773\\n-0.0407186\\n0.0528356\\n-0.0961157\\n-0.213997\\n-0.226662\\n0.0240428\\n0.313933\\n0.191394\\n-0.196987\\n0.0834254\\n-0.0961875\\n-0.0532788\\n-0.0314388\\n0.0766189\\n-0.13828\\n-0.0742542\\n-0.150253\\n-0.0337195\\n0.104426\\n0.0148734\\n-0.00519683\\n0.243665\\n0.025876\\n0.0443773\\n0.0590107\\n-0.0656543\\n-0.133222\\n0.00331339\\n-0.0355109\\n0.00311239\\n-0.00307491\\n-0.142063\\n-0.0206428\\n0.0711295\\n-0.152272\\n0.192188\\n-0.0206699\\n0.0106722\\n0.00747578\\n-0.0835406\\n-0.0898887\\n-0.0125138\\n0.132157\\n-0.337308\\n0.21665\\n0.107304\\n0.00658768\\n0.187522\\n0.0200161\\n0.116827\\n-0.0749761\\n-0.0734857\\n-0.144075\\n-0.0930084\\n0.0297634\\n-0.0715648\\n0.000104296\\n0.0354888'}"
      ]
     },
     "execution_count": 28,
     "metadata": {},
     "output_type": "execute_result"
    }
   ],
   "source": [
    "data_old[2]"
   ]
  },
  {
   "cell_type": "code",
   "execution_count": 23,
   "metadata": {},
   "outputs": [],
   "source": [
    "data_old=[]"
   ]
  },
  {
   "cell_type": "code",
   "execution_count": null,
   "metadata": {},
   "outputs": [],
   "source": []
  }
 ],
 "metadata": {
  "kernelspec": {
   "display_name": "Python 3",
   "language": "python",
   "name": "python3"
  },
  "language_info": {
   "codemirror_mode": {
    "name": "ipython",
    "version": 3
   },
   "file_extension": ".py",
   "mimetype": "text/x-python",
   "name": "python",
   "nbconvert_exporter": "python",
   "pygments_lexer": "ipython3",
   "version": "3.6.9"
  }
 },
 "nbformat": 4,
 "nbformat_minor": 2
}
