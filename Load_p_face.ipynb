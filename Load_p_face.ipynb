{
 "cells": [
  {
   "cell_type": "code",
   "execution_count": 1,
   "metadata": {},
   "outputs": [],
   "source": [
    "import dlib\n",
    "import cv2\n",
    "import pickle\n",
    "from itertools import chain\n",
    "import os\n",
    "from scipy.spatial import distance "
   ]
  },
  {
   "cell_type": "code",
   "execution_count": 2,
   "metadata": {},
   "outputs": [
    {
     "data": {
      "text/plain": [
       "'C:\\\\Users\\\\IQ-6\\\\Documents\\\\мой проект'"
      ]
     },
     "execution_count": 2,
     "metadata": {},
     "output_type": "execute_result"
    }
   ],
   "source": [
    "os.getcwd()"
   ]
  },
  {
   "cell_type": "code",
   "execution_count": 3,
   "metadata": {},
   "outputs": [],
   "source": [
    "os.chdir('face1')"
   ]
  },
  {
   "cell_type": "code",
   "execution_count": 4,
   "metadata": {},
   "outputs": [
    {
     "data": {
      "text/plain": [
       "['Aksimiron.jpg',\n",
       " 'Alex Hahkov.jpg',\n",
       " 'Alex.jpg',\n",
       " 'Anna.jpg',\n",
       " 'Bred Pit.jpg',\n",
       " 'face',\n",
       " 'm.kiany.jpg',\n",
       " 's.kiany.jpg',\n",
       " 'Salofutdinov.jpg',\n",
       " 'Sema.jpg',\n",
       " 'sema1.jpg',\n",
       " 'sema2.jpg']"
      ]
     },
     "execution_count": 4,
     "metadata": {},
     "output_type": "execute_result"
    }
   ],
   "source": [
    "os.listdir()"
   ]
  },
  {
   "cell_type": "code",
   "execution_count": 5,
   "metadata": {},
   "outputs": [],
   "source": [
    "f_l=os.listdir()\n",
    "f_l.remove('face')"
   ]
  },
  {
   "cell_type": "code",
   "execution_count": null,
   "metadata": {},
   "outputs": [],
   "source": [
    "os.chdir('face1')"
   ]
  },
  {
   "cell_type": "code",
   "execution_count": null,
   "metadata": {},
   "outputs": [],
   "source": [
    "f_l"
   ]
  },
  {
   "cell_type": "code",
   "execution_count": 6,
   "metadata": {
    "scrolled": true
   },
   "outputs": [
    {
     "name": "stdout",
     "output_type": "stream",
     "text": [
      "Aksimiron.jpg\n",
      "Alex Hahkov.jpg\n",
      "Alex.jpg\n",
      "Anna.jpg\n",
      "Bred Pit.jpg\n",
      "m.kiany.jpg\n",
      "s.kiany.jpg\n",
      "Salofutdinov.jpg\n",
      "Sema.jpg\n",
      "sema1.jpg\n",
      "sema2.jpg\n"
     ]
    }
   ],
   "source": [
    "data_old=[]\n",
    "data_name=[]\n",
    "for i in f_l:\n",
    "    with open(i, 'rb') as f:\n",
    "        print(f.name)\n",
    "        \n",
    "        data_new = pickle.load(f)\n",
    "    data_old.append(data_new)\n",
    "    data_name.append(f.name)"
   ]
  },
  {
   "cell_type": "code",
   "execution_count": 9,
   "metadata": {},
   "outputs": [],
   "source": [
    "sp = dlib.shape_predictor('model\\shape_predictor_5_face_landmarks.dat')\n",
    "facerec = dlib.face_recognition_model_v1('model\\dlib_face_recognition_resnet_model_v1.dat')\n",
    "detector = dlib.get_frontal_face_detector()"
   ]
  },
  {
   "cell_type": "code",
   "execution_count": null,
   "metadata": {},
   "outputs": [],
   "source": [
    "os.listdir()"
   ]
  },
  {
   "cell_type": "code",
   "execution_count": 7,
   "metadata": {},
   "outputs": [
    {
     "data": {
      "text/plain": [
       "'C:\\\\Users\\\\IQ-6\\\\Documents\\\\мой проект\\\\face1'"
      ]
     },
     "execution_count": 7,
     "metadata": {},
     "output_type": "execute_result"
    }
   ],
   "source": [
    "os.getcwd()"
   ]
  },
  {
   "cell_type": "code",
   "execution_count": 11,
   "metadata": {},
   "outputs": [],
   "source": [
    "os.chdir(\"face\")"
   ]
  },
  {
   "cell_type": "code",
   "execution_count": null,
   "metadata": {},
   "outputs": [],
   "source": [
    "name_face=os.listdir()\n",
    "name_face.remove('desktop.ini')"
   ]
  },
  {
   "cell_type": "code",
   "execution_count": null,
   "metadata": {},
   "outputs": [],
   "source": [
    "name_face"
   ]
  },
  {
   "cell_type": "code",
   "execution_count": null,
   "metadata": {},
   "outputs": [],
   "source": [
    "pic = cv2.imread(name_face[9])\n",
    "face1 = detector(pic, 1)\n",
    "shape = sp(pic, face1[0])\n",
    "face_descriptor_1 = facerec.compute_face_descriptor(pic, shape)\n",
    "for i in data_old:\n",
    "    result = distance.euclidean(face_descriptor_1,i)\n",
    "    print(result)\n"
   ]
  },
  {
   "cell_type": "code",
   "execution_count": null,
   "metadata": {},
   "outputs": [],
   "source": [
    "face1[0]"
   ]
  },
  {
   "cell_type": "code",
   "execution_count": null,
   "metadata": {},
   "outputs": [],
   "source": [
    "video_capture = cv2.VideoCapture(0)\n",
    "min2=3\n",
    "while True:\n",
    "    # Capture frame-by-frame\n",
    "    try:\n",
    "        ret, asd = video_capture.read()\n",
    "\n",
    "\n",
    "        face1 = detector(asd, 1)\n",
    "        shape = sp(pic, face1[0])\n",
    "        face_descriptor_1 = facerec.compute_face_descriptor(pic, shape)\n",
    "        for i in range(len(data_old)):\n",
    "            result = distance.euclidean(face_descriptor_1,data_old[i])\n",
    "            print(result)\n",
    "            if result<0.6:\n",
    "                print (\"Это тут это человек: \" , name_face[i])\n",
    "        #print(result)\n",
    "        #gray = cv2.cvtColor(gray, cv2.COLOR_BGR2GRAY)\n",
    "        cv2.imshow('Video', asd)\n",
    "    except:\n",
    "        pass\n",
    "    if cv2.waitKey(1) & 0xFF == ord('q'):\n",
    "        break\n",
    "    \n",
    "video_capture.release()\n",
    "cv2.destroyAllWindows()"
   ]
  },
  {
   "cell_type": "code",
   "execution_count": null,
   "metadata": {},
   "outputs": [],
   "source": [
    "video_capture.release()"
   ]
  },
  {
   "cell_type": "code",
   "execution_count": null,
   "metadata": {},
   "outputs": [],
   "source": [
    "detector"
   ]
  },
  {
   "cell_type": "code",
   "execution_count": null,
   "metadata": {},
   "outputs": [],
   "source": [
    "video_capture = cv2.VideoCapture(0)\n",
    "while True:\n",
    "    ret, asd = video_capture.read()\n",
    "    \n",
    "    #cv.rectangle (face1, (384,0), (510,128), (0,255,0), 3)\n",
    "    face1 = detector(asd, 1)\n",
    "    print(face1[0])\n",
    "    \n",
    "    if face1 == None:\n",
    "        continue\n",
    "        \n",
    "    print(face1)\n",
    "   # input()\n",
    "    \n",
    "    shape = sp(asd, face1[0])\n",
    "    print(shape)\n",
    "    #input()\n",
    "    face_descriptor_1 = facerec.compute_face_descriptor(asd, shape)\n",
    "    for i in range(len(data_old)):\n",
    "        result = distance.euclidean(face_descriptor_1,data_old[i])\n",
    "        print(result)\n",
    "        if result<0.6:\n",
    "            print(\"Этот человек есть в базе данных: \" , name_face[i])\n",
    "    \n",
    "    face2=cv2.rectangle (asd, (face1[0].left(),face1[0].top()), (d.right(), d.bottom()), (0,255,0), 3)\n",
    "    cv2.imshow('asd', face2)\n",
    "    \n",
    "    if cv2.waitKey(1) & 0xFF == ord('q'):\n",
    "        break\n",
    "    \n",
    "video_capture.release()\n",
    "cv2.destroyAllWindows()"
   ]
  },
  {
   "cell_type": "code",
   "execution_count": null,
   "metadata": {},
   "outputs": [],
   "source": [
    "video_capture.release()"
   ]
  },
  {
   "cell_type": "code",
   "execution_count": null,
   "metadata": {},
   "outputs": [],
   "source": [
    "shape[0]"
   ]
  },
  {
   "cell_type": "code",
   "execution_count": null,
   "metadata": {},
   "outputs": [],
   "source": [
    "qwe=face1[0].left()"
   ]
  },
  {
   "cell_type": "code",
   "execution_count": null,
   "metadata": {},
   "outputs": [],
   "source": [
    "qwe"
   ]
  },
  {
   "cell_type": "code",
   "execution_count": null,
   "metadata": {},
   "outputs": [],
   "source": [
    "  for i, d in enumerate(face1):\n",
    "        print(\"Detection {}: Left: {} Top: {} Right: {} Bottom: {}\".format(\n",
    "            i, d.left(), d.top(), d.right(), d.bottom()))\n",
    "        "
   ]
  },
  {
   "cell_type": "code",
   "execution_count": null,
   "metadata": {},
   "outputs": [],
   "source": []
  }
 ],
 "metadata": {
  "kernelspec": {
   "display_name": "Python 3",
   "language": "python",
   "name": "python3"
  },
  "language_info": {
   "codemirror_mode": {
    "name": "ipython",
    "version": 3
   },
   "file_extension": ".py",
   "mimetype": "text/x-python",
   "name": "python",
   "nbconvert_exporter": "python",
   "pygments_lexer": "ipython3",
   "version": "3.6.9"
  }
 },
 "nbformat": 4,
 "nbformat_minor": 2
}
