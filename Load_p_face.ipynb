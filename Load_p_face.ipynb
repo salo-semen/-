{
 "cells": [
  {
   "cell_type": "code",
   "execution_count": 1,
   "metadata": {},
   "outputs": [],
   "source": [
    "import dlib\n",
    "import cv2\n",
    "import pickle\n",
    "from itertools import chain\n",
    "import os\n",
    "from scipy.spatial import distance "
   ]
  },
  {
   "cell_type": "code",
   "execution_count": 2,
   "metadata": {},
   "outputs": [
    {
     "data": {
      "text/plain": [
       "'C:\\\\Users\\\\IQ-6\\\\Documents\\\\мой проект'"
      ]
     },
     "execution_count": 2,
     "metadata": {},
     "output_type": "execute_result"
    }
   ],
   "source": [
    "os.getcwd()"
   ]
  },
  {
   "cell_type": "code",
   "execution_count": 3,
   "metadata": {},
   "outputs": [],
   "source": [
    "os.chdir('face1')"
   ]
  },
  {
   "cell_type": "code",
   "execution_count": 4,
   "metadata": {},
   "outputs": [
    {
     "data": {
      "text/plain": [
       "['Aksimiron.jpg',\n",
       " 'Alex Hahkov.jpg',\n",
       " 'Alex.jpg',\n",
       " 'Anna.jpg',\n",
       " 'Bred Pit.jpg',\n",
       " 'face',\n",
       " 'm.kiany.jpg',\n",
       " 's.kiany.jpg',\n",
       " 'Salofutdinov.jpg',\n",
       " 'Sema.jpg',\n",
       " 'sema1.jpg',\n",
       " 'sema2.jpg']"
      ]
     },
     "execution_count": 4,
     "metadata": {},
     "output_type": "execute_result"
    }
   ],
   "source": [
    "os.listdir()"
   ]
  },
  {
   "cell_type": "code",
   "execution_count": 5,
   "metadata": {},
   "outputs": [],
   "source": [
    "f_l=os.listdir()\n",
    "f_l.remove('face')"
   ]
  },
  {
   "cell_type": "code",
   "execution_count": null,
   "metadata": {},
   "outputs": [],
   "source": [
    "os.chdir('face1')"
   ]
  },
  {
   "cell_type": "code",
   "execution_count": 6,
   "metadata": {},
   "outputs": [
    {
     "data": {
      "text/plain": [
       "['Aksimiron.jpg',\n",
       " 'Alex Hahkov.jpg',\n",
       " 'Alex.jpg',\n",
       " 'Anna.jpg',\n",
       " 'Bred Pit.jpg',\n",
       " 'm.kiany.jpg',\n",
       " 's.kiany.jpg',\n",
       " 'Salofutdinov.jpg',\n",
       " 'Sema.jpg',\n",
       " 'sema1.jpg',\n",
       " 'sema2.jpg']"
      ]
     },
     "execution_count": 6,
     "metadata": {},
     "output_type": "execute_result"
    }
   ],
   "source": [
    "f_l"
   ]
  },
  {
   "cell_type": "code",
   "execution_count": 7,
   "metadata": {
    "scrolled": true
   },
   "outputs": [
    {
     "name": "stdout",
     "output_type": "stream",
     "text": [
      "Aksimiron.jpg\n",
      "Alex Hahkov.jpg\n",
      "Alex.jpg\n",
      "Anna.jpg\n",
      "Bred Pit.jpg\n",
      "m.kiany.jpg\n",
      "s.kiany.jpg\n",
      "Salofutdinov.jpg\n",
      "Sema.jpg\n",
      "sema1.jpg\n",
      "sema2.jpg\n"
     ]
    }
   ],
   "source": [
    "data_old=[]\n",
    "data_name=[]\n",
    "for i in f_l:\n",
    "    with open(i, 'rb') as f:\n",
    "        print(f.name)\n",
    "        \n",
    "        data_new = pickle.load(f)\n",
    "    data_old.append(data_new)\n",
    "    data_name.append(f.name)"
   ]
  },
  {
   "cell_type": "code",
   "execution_count": 30,
   "metadata": {},
   "outputs": [],
   "source": [
    "sp = dlib.shape_predictor('model\\shape_predictor_5_face_landmarks.dat')\n",
    "facerec = dlib.face_recognition_model_v1('model\\dlib_face_recognition_resnet_model_v1.dat')\n",
    "detector = dlib.get_frontal_face_detector()"
   ]
  },
  {
   "cell_type": "code",
   "execution_count": null,
   "metadata": {},
   "outputs": [],
   "source": [
    "os.listdir()"
   ]
  },
  {
   "cell_type": "code",
   "execution_count": 29,
   "metadata": {},
   "outputs": [
    {
     "data": {
      "text/plain": [
       "'C:\\\\Users\\\\IQ-6\\\\Documents\\\\мой проект'"
      ]
     },
     "execution_count": 29,
     "metadata": {},
     "output_type": "execute_result"
    }
   ],
   "source": [
    "os.getcwd()"
   ]
  },
  {
   "cell_type": "code",
   "execution_count": 32,
   "metadata": {},
   "outputs": [],
   "source": [
    "os.chdir(\"face\")"
   ]
  },
  {
   "cell_type": "code",
   "execution_count": 33,
   "metadata": {},
   "outputs": [],
   "source": [
    "name_face=os.listdir()\n",
    "name_face.remove('desktop.ini')"
   ]
  },
  {
   "cell_type": "code",
   "execution_count": 34,
   "metadata": {},
   "outputs": [
    {
     "data": {
      "text/plain": [
       "['Aksimiron.jpg',\n",
       " 'Alex Hahkov.jpg',\n",
       " 'Alex.jpg',\n",
       " 'Anna.jpg',\n",
       " 'Bred Pit.jpg',\n",
       " 'm.kiany.jpg',\n",
       " 's.kiany.jpg',\n",
       " 'Salofutdinov.jpg',\n",
       " 'Sema.jpg',\n",
       " 'sema1.jpg',\n",
       " 'sema2.jpg']"
      ]
     },
     "execution_count": 34,
     "metadata": {},
     "output_type": "execute_result"
    }
   ],
   "source": [
    "name_face"
   ]
  },
  {
   "cell_type": "code",
   "execution_count": 35,
   "metadata": {},
   "outputs": [
    {
     "name": "stdout",
     "output_type": "stream",
     "text": [
      "0.8330814499838199\n",
      "0.8048058805317705\n",
      "0.8235218788878628\n",
      "0.8196191236502355\n",
      "0.7064492879178083\n",
      "0.7550056460262907\n",
      "0.7903764348749437\n",
      "0.3753382582685858\n",
      "0.4711726186234229\n",
      "0.10474167474616422\n",
      "0.2943677049450375\n"
     ]
    }
   ],
   "source": [
    "pic = cv2.imread(name_face[9])\n",
    "face1 = detector(pic, 1)\n",
    "shape = sp(pic, face1[0])\n",
    "face_descriptor_1 = facerec.compute_face_descriptor(pic, shape)\n",
    "for i in data_old:\n",
    "    result = distance.euclidean(face_descriptor_1,i)\n",
    "    print(result)\n"
   ]
  },
  {
   "cell_type": "code",
   "execution_count": 18,
   "metadata": {},
   "outputs": [
    {
     "data": {
      "text/plain": [
       "rectangle(142,246,605,708)"
      ]
     },
     "execution_count": 18,
     "metadata": {},
     "output_type": "execute_result"
    }
   ],
   "source": [
    "face1[0]"
   ]
  },
  {
   "cell_type": "code",
   "execution_count": null,
   "metadata": {},
   "outputs": [],
   "source": [
    "video_capture = cv2.VideoCapture(0)\n",
    "min2=3\n",
    "while True:\n",
    "    # Capture frame-by-frame\n",
    "    try:\n",
    "        ret, asd = video_capture.read()\n",
    "\n",
    "\n",
    "        face1 = detector(asd, 1)\n",
    "        shape = sp(pic, face1[0])\n",
    "        face_descriptor_1 = facerec.compute_face_descriptor(pic, shape)\n",
    "        for i in range(len(data_old)):\n",
    "            result = distance.euclidean(face_descriptor_1,data_old[i])\n",
    "            print(result)\n",
    "            if result<0.6:\n",
    "                print (\"Это тут это человек: \" , name_face[i])\n",
    "        #print(result)\n",
    "        #gray = cv2.cvtColor(gray, cv2.COLOR_BGR2GRAY)\n",
    "        cv2.imshow('Video', asd)\n",
    "    except:\n",
    "        pass\n",
    "    if cv2.waitKey(1) & 0xFF == ord('q'):\n",
    "        break\n",
    "    \n",
    "video_capture.release()\n",
    "cv2.destroyAllWindows()"
   ]
  },
  {
   "cell_type": "code",
   "execution_count": 38,
   "metadata": {},
   "outputs": [],
   "source": [
    "video_capture.release()"
   ]
  },
  {
   "cell_type": "code",
   "execution_count": null,
   "metadata": {},
   "outputs": [],
   "source": [
    "detector"
   ]
  },
  {
   "cell_type": "code",
   "execution_count": 37,
   "metadata": {},
   "outputs": [
    {
     "name": "stdout",
     "output_type": "stream",
     "text": [
      "rectangles[[(291, 242) (513, 464)]]\n",
      "\n",
      "<dlib.full_object_detection object at 0x0000029FF68FD420>\n",
      "\n",
      "0.7078368477140227\n",
      "0.749382505342744\n",
      "0.6454856177865601\n",
      "Это тут это человек:  Alex.jpg\n",
      "0.7523972400992397\n",
      "0.7277122529948237\n",
      "0.7930935311370919\n",
      "0.7437824636341709\n",
      "0.7538861942023508\n",
      "0.7444636023902012\n",
      "0.7374423778822398\n",
      "0.7228641171903643\n",
      "rectangles[[(205, 170) (526, 491)]]\n",
      "\n",
      "<dlib.full_object_detection object at 0x0000029FF68EC6F8>\n",
      "\n",
      "0.8445391303981377\n",
      "0.8530230529729832\n",
      "0.8188566137995427\n",
      "0.775183693734257\n",
      "0.7892809818768171\n",
      "0.7851904639944068\n",
      "0.8132549420929731\n",
      "0.5144977597379962\n",
      "Это тут это человек:  Salofutdinov.jpg\n",
      "0.527694889411783\n",
      "Это тут это человек:  Sema.jpg\n",
      "0.39278994023933234\n",
      "Это тут это человек:  sema1.jpg\n",
      "0.4602549657532381\n",
      "Это тут это человек:  sema2.jpg\n",
      "rectangles[[(266, 242) (489, 464)]]\n",
      "\n",
      "<dlib.full_object_detection object at 0x0000029FF68FD340>\n",
      "\n",
      "0.8273940507512366\n",
      "0.7975852081896609\n",
      "0.7570631155659595\n",
      "0.7604424016990339\n",
      "0.877336699890094\n",
      "0.9395205670180274\n",
      "0.8968354141547248\n",
      "0.8346713922600971\n",
      "0.8077747508687835\n",
      "0.7689113610000768\n",
      "0.784789258993898\n",
      "rectangles[[(260, 231) (527, 498)]]\n",
      "\n",
      "<dlib.full_object_detection object at 0x0000029FF68FD308>\n",
      "\n",
      "0.8463339300400401\n",
      "0.8534781197883845\n",
      "0.8168532466768286\n",
      "0.7928258332397272\n",
      "0.789066162840176\n",
      "0.7622103836246699\n",
      "0.7862713155135025\n",
      "0.4742642369294765\n",
      "Это тут это человек:  Salofutdinov.jpg\n",
      "0.48100252098123736\n",
      "Это тут это человек:  Sema.jpg\n",
      "0.354355512259899\n",
      "Это тут это человек:  sema1.jpg\n",
      "0.42427389252974507\n",
      "Это тут это человек:  sema2.jpg\n",
      "rectangles[[(266, 217) (489, 440)]]\n",
      "\n",
      "<dlib.full_object_detection object at 0x0000029FF68EC6C0>\n",
      "\n",
      "0.6898141418172783\n",
      "0.7228113373777992\n",
      "0.6612299017024444\n",
      "Это тут это человек:  Alex.jpg\n",
      "0.66107987044382\n",
      "Это тут это человек:  Anna.jpg\n",
      "0.7226966156194765\n",
      "0.6849616384360547\n",
      "0.695669356906327\n",
      "0.7252274417307011\n",
      "0.7151744920366153\n",
      "0.6858064253217541\n",
      "0.7276789276527023\n",
      "rectangles[[(241, 217) (464, 440)]]\n",
      "\n",
      "<dlib.full_object_detection object at 0x0000029FF68FD420>\n",
      "\n",
      "0.7353107191233358\n",
      "0.764986639408393\n",
      "0.7245413162126294\n",
      "0.6771589962132695\n",
      "0.6889639269750931\n",
      "0.71010445529565\n",
      "0.6401292718772461\n",
      "Это тут это человек:  s.kiany.jpg\n",
      "0.6901665969037486\n",
      "0.7111225159620089\n",
      "0.683186165936331\n",
      "0.6977103721988263\n",
      "rectangles[[(241, 217) (464, 440)]]\n",
      "\n",
      "<dlib.full_object_detection object at 0x0000029FF68FD3E8>\n",
      "\n",
      "0.7353107191233358\n",
      "0.764986639408393\n",
      "0.7245413162126294\n",
      "0.6771589962132695\n",
      "0.6889639269750931\n",
      "0.71010445529565\n",
      "0.6401292718772461\n",
      "Это тут это человек:  s.kiany.jpg\n",
      "0.6901665969037486\n",
      "0.7111225159620089\n",
      "0.683186165936331\n",
      "0.6977103721988263\n",
      "rectangles[[(241, 217) (464, 440)]]\n",
      "\n",
      "<dlib.full_object_detection object at 0x0000029FF68FD4C8>\n",
      "\n",
      "0.7353107191233358\n",
      "0.764986639408393\n",
      "0.7245413162126294\n",
      "0.6771589962132695\n",
      "0.6889639269750931\n",
      "0.71010445529565\n",
      "0.6401292718772461\n",
      "Это тут это человек:  s.kiany.jpg\n",
      "0.6901665969037486\n",
      "0.7111225159620089\n",
      "0.683186165936331\n",
      "0.6977103721988263\n",
      "rectangles[[(241, 217) (464, 440)]]\n",
      "\n",
      "<dlib.full_object_detection object at 0x0000029FF68EC6C0>\n",
      "\n",
      "0.7353107191233358\n",
      "0.764986639408393\n",
      "0.7245413162126294\n",
      "0.6771589962132695\n",
      "0.6889639269750931\n",
      "0.71010445529565\n",
      "0.6401292718772461\n",
      "Это тут это человек:  s.kiany.jpg\n",
      "0.6901665969037486\n",
      "0.7111225159620089\n",
      "0.683186165936331\n",
      "0.6977103721988263\n",
      "rectangles[[(260, 171) (527, 439)]]\n",
      "\n",
      "<dlib.full_object_detection object at 0x0000029FF68FD500>\n",
      "\n",
      "0.7271338712206971\n",
      "0.7419547879656312\n",
      "0.689776848727242\n",
      "0.693489217896184\n",
      "0.715996704678728\n",
      "0.7182432811262159\n",
      "0.7305081521629077\n",
      "0.7043253980892548\n",
      "0.6717752720721054\n",
      "Это тут это человек:  Sema.jpg\n",
      "0.6738499842165495\n",
      "Это тут это человек:  sema1.jpg\n",
      "0.6371601047293315\n",
      "Это тут это человек:  sema2.jpg\n",
      "rectangles[[(205, 241) (526, 562)]]\n",
      "\n",
      "<dlib.full_object_detection object at 0x0000029FF68FD420>\n",
      "\n",
      "0.8341880461255229\n",
      "0.7981769546192741\n",
      "0.8247350948791372\n",
      "0.8146373040271799\n",
      "0.7173568286925145\n",
      "0.7446118815637149\n",
      "0.7708911930205464\n",
      "0.41096681299752974\n",
      "Это тут это человек:  Salofutdinov.jpg\n",
      "0.4532532464561311\n",
      "Это тут это человек:  Sema.jpg\n",
      "0.14623017456290188\n",
      "Это тут это человек:  sema1.jpg\n",
      "0.2912349335984907\n",
      "Это тут это человек:  sema2.jpg\n",
      "rectangles[[(205, 241) (526, 562)]]\n",
      "\n",
      "<dlib.full_object_detection object at 0x0000029FF68EC6F8>\n",
      "\n",
      "0.8341880461255229\n",
      "0.7981769546192741\n",
      "0.8247350948791372\n",
      "0.8146373040271799\n",
      "0.7173568286925145\n",
      "0.7446118815637149\n",
      "0.7708911930205464\n",
      "0.41096681299752974\n",
      "Это тут это человек:  Salofutdinov.jpg\n",
      "0.4532532464561311\n",
      "Это тут это человек:  Sema.jpg\n",
      "0.14623017456290188\n",
      "Это тут это человек:  sema1.jpg\n",
      "0.2912349335984907\n",
      "Это тут это человек:  sema2.jpg\n",
      "rectangles[[(241, 241) (562, 562)]]\n",
      "\n",
      "<dlib.full_object_detection object at 0x0000029FF68FD458>\n",
      "\n",
      "0.834644541298976\n",
      "0.79140174205002\n",
      "0.8229608638633966\n",
      "0.8141424611034815\n",
      "0.7136611107046856\n",
      "0.7491314444133915\n",
      "0.7753338812554071\n",
      "0.42045777683838376\n",
      "Это тут это человек:  Salofutdinov.jpg\n",
      "0.46735691594299883\n",
      "Это тут это человек:  Sema.jpg\n",
      "0.15291390385546974\n",
      "Это тут это человек:  sema1.jpg\n",
      "0.2954916251934244\n",
      "Это тут это человек:  sema2.jpg\n",
      "rectangles[]\n",
      "\n"
     ]
    },
    {
     "ename": "IndexError",
     "evalue": "",
     "output_type": "error",
     "traceback": [
      "\u001b[1;31m---------------------------------------------------------------------------\u001b[0m",
      "\u001b[1;31mIndexError\u001b[0m                                Traceback (most recent call last)",
      "\u001b[1;32m<ipython-input-37-0abdb5cd28bf>\u001b[0m in \u001b[0;36m<module>\u001b[1;34m\u001b[0m\n\u001b[0;32m     10\u001b[0m     \u001b[0minput\u001b[0m\u001b[1;33m(\u001b[0m\u001b[1;33m)\u001b[0m\u001b[1;33m\u001b[0m\u001b[1;33m\u001b[0m\u001b[0m\n\u001b[0;32m     11\u001b[0m \u001b[1;33m\u001b[0m\u001b[0m\n\u001b[1;32m---> 12\u001b[1;33m     \u001b[0mshape\u001b[0m \u001b[1;33m=\u001b[0m \u001b[0msp\u001b[0m\u001b[1;33m(\u001b[0m\u001b[0mpic\u001b[0m\u001b[1;33m,\u001b[0m \u001b[0mface1\u001b[0m\u001b[1;33m[\u001b[0m\u001b[1;36m0\u001b[0m\u001b[1;33m]\u001b[0m\u001b[1;33m)\u001b[0m\u001b[1;33m\u001b[0m\u001b[1;33m\u001b[0m\u001b[0m\n\u001b[0m\u001b[0;32m     13\u001b[0m     \u001b[0mprint\u001b[0m\u001b[1;33m(\u001b[0m\u001b[0mshape\u001b[0m\u001b[1;33m)\u001b[0m\u001b[1;33m\u001b[0m\u001b[1;33m\u001b[0m\u001b[0m\n\u001b[0;32m     14\u001b[0m     \u001b[0minput\u001b[0m\u001b[1;33m(\u001b[0m\u001b[1;33m)\u001b[0m\u001b[1;33m\u001b[0m\u001b[1;33m\u001b[0m\u001b[0m\n",
      "\u001b[1;31mIndexError\u001b[0m: "
     ]
    }
   ],
   "source": [
    "video_capture = cv2.VideoCapture(0)\n",
    "while True:\n",
    "    ret, asd = video_capture.read()\n",
    "\n",
    "    face1 = detector(asd, 1)\n",
    "    if face1 == None:\n",
    "        continue\n",
    "        \n",
    "    print(face1)\n",
    "    input()\n",
    "    \n",
    "    shape = sp(pic, face1[0])\n",
    "    print(shape)\n",
    "    input()\n",
    "    face_descriptor_1 = facerec.compute_face_descriptor(pic, shape)\n",
    "    for i in range(len(data_old)):\n",
    "        result = distance.euclidean(face_descriptor_1,data_old[i])\n",
    "        print(result)\n",
    "        if result<0.675:\n",
    "            print(\"Это тут это человек: \" , name_face[i])"
   ]
  },
  {
   "cell_type": "code",
   "execution_count": null,
   "metadata": {},
   "outputs": [],
   "source": [
    "\n",
    "\n",
    "\n",
    "\n",
    "\n",
    "\n",
    "\n",
    "\\\\\n",
    "\n",
    "\n",
    "\n",
    "\n",
    "\n"
   ]
  }
 ],
 "metadata": {
  "kernelspec": {
   "display_name": "Python 3",
   "language": "python",
   "name": "python3"
  },
  "language_info": {
   "codemirror_mode": {
    "name": "ipython",
    "version": 3
   },
   "file_extension": ".py",
   "mimetype": "text/x-python",
   "name": "python",
   "nbconvert_exporter": "python",
   "pygments_lexer": "ipython3",
   "version": "3.6.9"
  }
 },
 "nbformat": 4,
 "nbformat_minor": 2
}
