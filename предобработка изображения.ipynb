{
 "cells": [
  {
   "cell_type": "code",
   "execution_count": 19,
   "metadata": {},
   "outputs": [],
   "source": [
    "import os\n",
    "import cv2\n"
   ]
  },
  {
   "cell_type": "code",
   "execution_count": 25,
   "metadata": {
    "scrolled": false
   },
   "outputs": [
    {
     "data": {
      "text/plain": [
       "'C:\\\\Users\\\\IQ-6\\\\Documents\\\\мой проект'"
      ]
     },
     "execution_count": 25,
     "metadata": {},
     "output_type": "execute_result"
    }
   ],
   "source": [
    "os.getcwd()\n"
   ]
  },
  {
   "cell_type": "code",
   "execution_count": 24,
   "metadata": {},
   "outputs": [],
   "source": [
    "os.chdir('мой проект')"
   ]
  },
  {
   "cell_type": "code",
   "execution_count": 27,
   "metadata": {},
   "outputs": [
    {
     "data": {
      "text/plain": [
       "['.ipynb_checkpoints',\n",
       " '2-117.jpg',\n",
       " '70f010ac9a3ec5d371f98545f6868e73.jpg',\n",
       " 'dlib_face_recognition_resnet_model_v1.dat.bz2',\n",
       " 'shape_predictor_68_face_landmarks.dat.bz2',\n",
       " 'Test.ipynb',\n",
       " 'WeDoImage1577452686.jpeg',\n",
       " 'предобработка изображения.ipynb',\n",
       " 'фотографии']"
      ]
     },
     "execution_count": 27,
     "metadata": {},
     "output_type": "execute_result"
    }
   ],
   "source": [
    "os.listdir()"
   ]
  },
  {
   "cell_type": "code",
   "execution_count": 28,
   "metadata": {},
   "outputs": [],
   "source": [
    "pic=cv2.imread(\"70f010ac9a3ec5d371f98545f6868e73.jpg\")"
   ]
  },
  {
   "cell_type": "code",
   "execution_count": 6,
   "metadata": {
    "scrolled": false
   },
   "outputs": [
    {
     "name": "stdout",
     "output_type": "stream",
     "text": [
      "[[[ 86  85  81]\n",
      "  [ 88  87  83]\n",
      "  [ 90  89  85]\n",
      "  ...\n",
      "  [158 156 155]\n",
      "  [158 156 155]\n",
      "  [159 157 156]]\n",
      "\n",
      " [[ 86  85  81]\n",
      "  [ 88  87  83]\n",
      "  [ 90  89  85]\n",
      "  ...\n",
      "  [158 156 155]\n",
      "  [158 156 155]\n",
      "  [159 157 156]]\n",
      "\n",
      " [[ 87  86  82]\n",
      "  [ 88  87  83]\n",
      "  [ 90  89  85]\n",
      "  ...\n",
      "  [158 156 155]\n",
      "  [158 156 155]\n",
      "  [159 157 156]]\n",
      "\n",
      " ...\n",
      "\n",
      " [[ 87  82  79]\n",
      "  [ 87  82  79]\n",
      "  [ 87  82  79]\n",
      "  ...\n",
      "  [101 114 130]\n",
      "  [ 99 112 128]\n",
      "  [ 90 103 117]]\n",
      "\n",
      " [[ 88  83  80]\n",
      "  [ 87  82  79]\n",
      "  [ 86  81  78]\n",
      "  ...\n",
      "  [104 117 133]\n",
      "  [111 124 140]\n",
      "  [106 119 133]]\n",
      "\n",
      " [[ 90  85  82]\n",
      "  [ 87  82  79]\n",
      "  [ 85  80  77]\n",
      "  ...\n",
      "  [104 117 133]\n",
      "  [114 127 143]\n",
      "  [135 148 162]]]\n"
     ]
    }
   ],
   "source": [
    "print (pic)"
   ]
  },
  {
   "cell_type": "code",
   "execution_count": 29,
   "metadata": {},
   "outputs": [
    {
     "data": {
      "text/plain": [
       "(1198, 920, 3)"
      ]
     },
     "execution_count": 29,
     "metadata": {},
     "output_type": "execute_result"
    }
   ],
   "source": [
    "pic.shape"
   ]
  },
  {
   "cell_type": "code",
   "execution_count": 60,
   "metadata": {},
   "outputs": [],
   "source": [
    "cv2.imshow('pic',pic)\n",
    "cv2.waitKey()\n",
    "cv2.destroyAllWindows()"
   ]
  },
  {
   "cell_type": "markdown",
   "metadata": {},
   "source": []
  },
  {
   "cell_type": "code",
   "execution_count": 34,
   "metadata": {},
   "outputs": [],
   "source": [
    "res=cv2.resize(pic,(500,500))"
   ]
  },
  {
   "cell_type": "code",
   "execution_count": 61,
   "metadata": {},
   "outputs": [
    {
     "data": {
      "text/plain": [
       "(500, 500, 3)"
      ]
     },
     "execution_count": 61,
     "metadata": {},
     "output_type": "execute_result"
    }
   ],
   "source": [
    "res.shape"
   ]
  },
  {
   "cell_type": "code",
   "execution_count": 62,
   "metadata": {},
   "outputs": [],
   "source": [
    "cv2.imshow('res',res)\n",
    "cv2.waitKey(0)\n",
    "cv2.destroyAllWindows()"
   ]
  },
  {
   "cell_type": "code",
   "execution_count": 37,
   "metadata": {},
   "outputs": [],
   "source": [
    "gray_res=cv2.cvtColor(res, cv2. COLOR_BGR2GRAY)"
   ]
  },
  {
   "cell_type": "code",
   "execution_count": 65,
   "metadata": {},
   "outputs": [],
   "source": [
    "cv2.imshow('gray_res',gray_res)\n",
    "cv2.waitKey(0)\n",
    "cv2.destroyAllWindows()"
   ]
  },
  {
   "cell_type": "code",
   "execution_count": 66,
   "metadata": {},
   "outputs": [
    {
     "data": {
      "text/plain": [
       "(500, 500)"
      ]
     },
     "execution_count": 66,
     "metadata": {},
     "output_type": "execute_result"
    }
   ],
   "source": [
    "gray_res.shape"
   ]
  },
  {
   "cell_type": "code",
   "execution_count": 87,
   "metadata": {},
   "outputs": [],
   "source": [
    "ret, black_res=cv2.threshold(gray_res,50,255,0)"
   ]
  },
  {
   "cell_type": "code",
   "execution_count": null,
   "metadata": {},
   "outputs": [],
   "source": [
    "cv2.imshow('black_res',black_res)\n",
    "cv2.waitKey(0)\n",
    "cv2.destroyAllWindows()"
   ]
  },
  {
   "cell_type": "code",
   "execution_count": null,
   "metadata": {},
   "outputs": [],
   "source": []
  },
  {
   "cell_type": "code",
   "execution_count": null,
   "metadata": {},
   "outputs": [],
   "source": []
  }
 ],
 "metadata": {
  "kernelspec": {
   "display_name": "Python 3",
   "language": "python",
   "name": "python3"
  },
  "language_info": {
   "codemirror_mode": {
    "name": "ipython",
    "version": 3
   },
   "file_extension": ".py",
   "mimetype": "text/x-python",
   "name": "python",
   "nbconvert_exporter": "python",
   "pygments_lexer": "ipython3",
   "version": "3.6.9"
  }
 },
 "nbformat": 4,
 "nbformat_minor": 2
}
